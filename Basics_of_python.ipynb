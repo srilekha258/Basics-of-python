{
  "nbformat": 4,
  "nbformat_minor": 0,
  "metadata": {
    "colab": {
      "provenance": [],
      "toc_visible": true,
      "include_colab_link": true
    },
    "kernelspec": {
      "name": "python3",
      "display_name": "Python 3"
    },
    "language_info": {
      "name": "python"
    }
  },
  "cells": [
    {
      "cell_type": "markdown",
      "metadata": {
        "id": "view-in-github",
        "colab_type": "text"
      },
      "source": [
        "<a href=\"https://colab.research.google.com/github/srilekha258/Basics-of-python/blob/main/Basics_of_python.ipynb\" target=\"_parent\"><img src=\"https://colab.research.google.com/assets/colab-badge.svg\" alt=\"Open In Colab\"/></a>"
      ]
    },
    {
      "cell_type": "markdown",
      "source": [
        "# Excerise1 Prime numbers"
      ],
      "metadata": {
        "id": "sTpGs9dQBtHl"
      }
    },
    {
      "cell_type": "code",
      "source": [
        "def is_prime(number):\n",
        "  if number <= 1:\n",
        "    return False\n",
        "  for i in range(2,int(number**0.5)+1):\n",
        "    if number % i == 0:\n",
        "      return False\n",
        "  return True\n",
        "num = int(input(\"Enter a number: \"))\n",
        "if is_prime(num):\n",
        "  print(f\"{num} is a prime number.\")\n",
        "else:\n",
        "  print(f\"{num} is not a prime number.\")\n"
      ],
      "metadata": {
        "colab": {
          "base_uri": "https://localhost:8080/"
        },
        "id": "xOOq7OYeB2Wa",
        "outputId": "de93de9e-3c1e-4f3e-8821-288507b68867"
      },
      "execution_count": null,
      "outputs": [
        {
          "output_type": "stream",
          "name": "stdout",
          "text": [
            "Enter a number: 6\n",
            "6 is not a prime number.\n"
          ]
        }
      ]
    },
    {
      "cell_type": "markdown",
      "source": [
        "## Exercise 2: Product of Random Numbers"
      ],
      "metadata": {
        "id": "Nyqk978NEMI4"
      }
    },
    {
      "cell_type": "code",
      "source": [
        "import random\n",
        "num1 = random.randint(1,10)\n",
        "num2 = random.randint(1,10)\n",
        "correct_answer = num1*num2\n",
        "user_answer = int(input(f\"what is the product of {num1} and {num2}?\"))\n",
        "if user_answer == correct_answer:\n",
        "  print(\"Correct! well done.\")\n",
        "else:\n",
        "  print(f\"Incorrect. The correct answer is {correct_answer}.\")"
      ],
      "metadata": {
        "colab": {
          "base_uri": "https://localhost:8080/"
        },
        "id": "rrj2B5HUB9v9",
        "outputId": "3f3ce2cf-da02-4676-e907-12dfbcfee39c"
      },
      "execution_count": null,
      "outputs": [
        {
          "output_type": "stream",
          "name": "stdout",
          "text": [
            "what is the product of 2 and 2? 4\n",
            "Correct! well done.\n"
          ]
        }
      ]
    },
    {
      "cell_type": "markdown",
      "source": [
        "# Exercise 3: Squares of Even/Odd Numbers"
      ],
      "metadata": {
        "id": "xSZBBL7jF15R"
      }
    },
    {
      "cell_type": "code",
      "source": [
        "for number in range(100, 201):\n",
        "  if number % 2 == 0:\n",
        "    print(f\"The square of {number} is {number **2}\")"
      ],
      "metadata": {
        "colab": {
          "base_uri": "https://localhost:8080/"
        },
        "id": "nNWU1R9pF8bN",
        "outputId": "68b1bbee-8a2d-47c0-d0bf-51df0117d555"
      },
      "execution_count": null,
      "outputs": [
        {
          "output_type": "stream",
          "name": "stdout",
          "text": [
            "The square of 100 is 10000\n",
            "The square of 102 is 10404\n",
            "The square of 104 is 10816\n",
            "The square of 106 is 11236\n",
            "The square of 108 is 11664\n",
            "The square of 110 is 12100\n",
            "The square of 112 is 12544\n",
            "The square of 114 is 12996\n",
            "The square of 116 is 13456\n",
            "The square of 118 is 13924\n",
            "The square of 120 is 14400\n",
            "The square of 122 is 14884\n",
            "The square of 124 is 15376\n",
            "The square of 126 is 15876\n",
            "The square of 128 is 16384\n",
            "The square of 130 is 16900\n",
            "The square of 132 is 17424\n",
            "The square of 134 is 17956\n",
            "The square of 136 is 18496\n",
            "The square of 138 is 19044\n",
            "The square of 140 is 19600\n",
            "The square of 142 is 20164\n",
            "The square of 144 is 20736\n",
            "The square of 146 is 21316\n",
            "The square of 148 is 21904\n",
            "The square of 150 is 22500\n",
            "The square of 152 is 23104\n",
            "The square of 154 is 23716\n",
            "The square of 156 is 24336\n",
            "The square of 158 is 24964\n",
            "The square of 160 is 25600\n",
            "The square of 162 is 26244\n",
            "The square of 164 is 26896\n",
            "The square of 166 is 27556\n",
            "The square of 168 is 28224\n",
            "The square of 170 is 28900\n",
            "The square of 172 is 29584\n",
            "The square of 174 is 30276\n",
            "The square of 176 is 30976\n",
            "The square of 178 is 31684\n",
            "The square of 180 is 32400\n",
            "The square of 182 is 33124\n",
            "The square of 184 is 33856\n",
            "The square of 186 is 34596\n",
            "The square of 188 is 35344\n",
            "The square of 190 is 36100\n",
            "The square of 192 is 36864\n",
            "The square of 194 is 37636\n",
            "The square of 196 is 38416\n",
            "The square of 198 is 39204\n",
            "The square of 200 is 40000\n"
          ]
        }
      ]
    },
    {
      "cell_type": "markdown",
      "source": [
        "# Exercise 4: Word counter"
      ],
      "metadata": {
        "id": "5TS7kLJoGjDI"
      }
    },
    {
      "cell_type": "code",
      "source": [
        "from collections import Counter\n",
        "input_text = \"This is a simple text.This text will be used to demonstrate the word counter.\"\n",
        "words = input_text.lower().split()\n",
        "word_count = Counter(words)\n",
        "for word, count in word_count.items():\n",
        "  print(f\"'{word}':{count}\")"
      ],
      "metadata": {
        "colab": {
          "base_uri": "https://localhost:8080/"
        },
        "id": "rqm9KqhuGn1Q",
        "outputId": "49527fb9-7ae0-4a1b-9194-c85fe398feff"
      },
      "execution_count": null,
      "outputs": [
        {
          "output_type": "stream",
          "name": "stdout",
          "text": [
            "'this':1\n",
            "'is':1\n",
            "'a':1\n",
            "'simple':1\n",
            "'text.this':1\n",
            "'text':1\n",
            "'will':1\n",
            "'be':1\n",
            "'used':1\n",
            "'to':1\n",
            "'demonstrate':1\n",
            "'the':1\n",
            "'word':1\n",
            "'counter.':1\n"
          ]
        }
      ]
    },
    {
      "cell_type": "markdown",
      "source": [
        "# Exercise 5: Check for Palindrome"
      ],
      "metadata": {
        "id": "gkH3UVq5R8jI"
      }
    },
    {
      "cell_type": "code",
      "source": [
        "import re\n",
        "def is_palindrome(input_string):\n",
        "  cleaned_string = re.sub(r'[^A-Za-z0-9]','',input_string).lower()\n",
        "  return cleaned_string == cleaned_string[::-1]\n",
        "print(is_palindrome(\"A man, a plan, a canal, Panama\"))\n",
        "print(is_palindrome(\"Hello,World!\"))\n"
      ],
      "metadata": {
        "colab": {
          "base_uri": "https://localhost:8080/"
        },
        "id": "o11XxqtnSHVb",
        "outputId": "750f207e-10f2-4f7f-d061-e4c6ec4fcc9d"
      },
      "execution_count": null,
      "outputs": [
        {
          "output_type": "stream",
          "name": "stdout",
          "text": [
            "True\n",
            "False\n"
          ]
        }
      ]
    },
    {
      "cell_type": "markdown",
      "source": [],
      "metadata": {
        "id": "LikktVqrcb2s"
      }
    }
  ]
}